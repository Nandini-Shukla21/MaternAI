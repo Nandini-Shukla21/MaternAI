{
 "cells": [
  {
   "cell_type": "code",
   "execution_count": 3,
   "id": "ce24f20b-0509-493b-a237-97f4b3b39b69",
   "metadata": {},
   "outputs": [],
   "source": [
    "import numpy as np \n",
    "import pandas as pd \n",
    "import seaborn as sns \n",
    "import matplotlib.pyplot as plt \n",
    "import warnings \n",
    "warnings.filterwarnings('ignore')"
   ]
  },
  {
   "cell_type": "code",
   "execution_count": 11,
   "id": "29dd9899-8d59-49b7-8fa4-89a18b3cca5d",
   "metadata": {},
   "outputs": [
    {
     "name": "stdout",
     "output_type": "stream",
     "text": [
      "Requirement already satisfied: kaggle in c:\\users\\nandini shukla\\lib\\site-packages (1.7.4.5)\n",
      "Requirement already satisfied: bleach in c:\\users\\nandini shukla\\lib\\site-packages (from kaggle) (6.2.0)\n",
      "Requirement already satisfied: certifi>=14.05.14 in c:\\users\\nandini shukla\\lib\\site-packages (from kaggle) (2025.6.15)\n",
      "Requirement already satisfied: charset-normalizer in c:\\users\\nandini shukla\\lib\\site-packages (from kaggle) (3.4.2)\n",
      "Requirement already satisfied: idna in c:\\users\\nandini shukla\\lib\\site-packages (from kaggle) (3.10)\n",
      "Requirement already satisfied: protobuf in c:\\users\\nandini shukla\\lib\\site-packages (from kaggle) (6.31.1)\n",
      "Requirement already satisfied: python-dateutil>=2.5.3 in c:\\users\\nandini shukla\\lib\\site-packages (from kaggle) (2.9.0.post0)\n",
      "Requirement already satisfied: python-slugify in c:\\users\\nandini shukla\\lib\\site-packages (from kaggle) (8.0.4)\n",
      "Requirement already satisfied: requests in c:\\users\\nandini shukla\\lib\\site-packages (from kaggle) (2.32.4)\n",
      "Requirement already satisfied: setuptools>=21.0.0 in c:\\users\\nandini shukla\\lib\\site-packages (from kaggle) (80.9.0)\n",
      "Requirement already satisfied: six>=1.10 in c:\\users\\nandini shukla\\lib\\site-packages (from kaggle) (1.17.0)\n",
      "Requirement already satisfied: text-unidecode in c:\\users\\nandini shukla\\lib\\site-packages (from kaggle) (1.3)\n",
      "Requirement already satisfied: tqdm in c:\\users\\nandini shukla\\lib\\site-packages (from kaggle) (4.67.1)\n",
      "Requirement already satisfied: urllib3>=1.15.1 in c:\\users\\nandini shukla\\lib\\site-packages (from kaggle) (2.5.0)\n",
      "Requirement already satisfied: webencodings in c:\\users\\nandini shukla\\lib\\site-packages (from kaggle) (0.5.1)\n",
      "Requirement already satisfied: colorama in c:\\users\\nandini shukla\\lib\\site-packages (from tqdm->kaggle) (0.4.6)\n"
     ]
    }
   ],
   "source": [
    "\n",
    "!pip install kaggle\n"
   ]
  },
  {
   "cell_type": "code",
   "execution_count": 12,
   "id": "1620a41b-704e-44cb-aec8-0371bef85474",
   "metadata": {},
   "outputs": [
    {
     "name": "stdout",
     "output_type": "stream",
     "text": [
      "Dataset URL: https://www.kaggle.com/datasets/csafrit2/maternal-health-risk-data\n",
      "License(s): other\n",
      "maternal-health-risk-data.zip: Skipping, found more recently modified local copy (use --force to force download)\n"
     ]
    }
   ],
   "source": [
    "!kaggle datasets download -d csafrit2/maternal-health-risk-data\n"
   ]
  },
  {
   "cell_type": "code",
   "execution_count": 13,
   "id": "09bef1c8-ad58-43fe-992e-028774be9c72",
   "metadata": {},
   "outputs": [],
   "source": [
    "import zipfile\n",
    "\n",
    "# Unzip the file downloaded from Kaggle\n",
    "with zipfile.ZipFile(\"maternal-health-risk-data.zip\", 'r') as zip_ref:\n",
    "    zip_ref.extractall(\"maternal_data\")  # This will create a folder named 'maternal_data'\n"
   ]
  },
  {
   "cell_type": "code",
   "execution_count": 4,
   "id": "a06f7ae9-09a9-4dd5-a50a-cc86ad9666ed",
   "metadata": {},
   "outputs": [
    {
     "data": {
      "text/html": [
       "<div>\n",
       "<style scoped>\n",
       "    .dataframe tbody tr th:only-of-type {\n",
       "        vertical-align: middle;\n",
       "    }\n",
       "\n",
       "    .dataframe tbody tr th {\n",
       "        vertical-align: top;\n",
       "    }\n",
       "\n",
       "    .dataframe thead th {\n",
       "        text-align: right;\n",
       "    }\n",
       "</style>\n",
       "<table border=\"1\" class=\"dataframe\">\n",
       "  <thead>\n",
       "    <tr style=\"text-align: right;\">\n",
       "      <th></th>\n",
       "      <th>Age</th>\n",
       "      <th>SystolicBP</th>\n",
       "      <th>DiastolicBP</th>\n",
       "      <th>BS</th>\n",
       "      <th>BodyTemp</th>\n",
       "      <th>HeartRate</th>\n",
       "      <th>RiskLevel</th>\n",
       "    </tr>\n",
       "  </thead>\n",
       "  <tbody>\n",
       "    <tr>\n",
       "      <th>0</th>\n",
       "      <td>25</td>\n",
       "      <td>130</td>\n",
       "      <td>80</td>\n",
       "      <td>15.0</td>\n",
       "      <td>98.0</td>\n",
       "      <td>86</td>\n",
       "      <td>high risk</td>\n",
       "    </tr>\n",
       "    <tr>\n",
       "      <th>1</th>\n",
       "      <td>35</td>\n",
       "      <td>140</td>\n",
       "      <td>90</td>\n",
       "      <td>13.0</td>\n",
       "      <td>98.0</td>\n",
       "      <td>70</td>\n",
       "      <td>high risk</td>\n",
       "    </tr>\n",
       "    <tr>\n",
       "      <th>2</th>\n",
       "      <td>29</td>\n",
       "      <td>90</td>\n",
       "      <td>70</td>\n",
       "      <td>8.0</td>\n",
       "      <td>100.0</td>\n",
       "      <td>80</td>\n",
       "      <td>high risk</td>\n",
       "    </tr>\n",
       "    <tr>\n",
       "      <th>3</th>\n",
       "      <td>30</td>\n",
       "      <td>140</td>\n",
       "      <td>85</td>\n",
       "      <td>7.0</td>\n",
       "      <td>98.0</td>\n",
       "      <td>70</td>\n",
       "      <td>high risk</td>\n",
       "    </tr>\n",
       "    <tr>\n",
       "      <th>4</th>\n",
       "      <td>35</td>\n",
       "      <td>120</td>\n",
       "      <td>60</td>\n",
       "      <td>6.1</td>\n",
       "      <td>98.0</td>\n",
       "      <td>76</td>\n",
       "      <td>low risk</td>\n",
       "    </tr>\n",
       "  </tbody>\n",
       "</table>\n",
       "</div>"
      ],
      "text/plain": [
       "   Age  SystolicBP  DiastolicBP    BS  BodyTemp  HeartRate  RiskLevel\n",
       "0   25         130           80  15.0      98.0         86  high risk\n",
       "1   35         140           90  13.0      98.0         70  high risk\n",
       "2   29          90           70   8.0     100.0         80  high risk\n",
       "3   30         140           85   7.0      98.0         70  high risk\n",
       "4   35         120           60   6.1      98.0         76   low risk"
      ]
     },
     "execution_count": 4,
     "metadata": {},
     "output_type": "execute_result"
    }
   ],
   "source": [
    "df = pd.read_csv(\"maternal_data/maternal_health_risk.csv\")\n",
    "df.head()"
   ]
  },
  {
   "cell_type": "code",
   "execution_count": 5,
   "id": "d6ad9427-546c-4211-8a0a-8f60be5be1a8",
   "metadata": {},
   "outputs": [],
   "source": [
    "#EDA"
   ]
  },
  {
   "cell_type": "code",
   "execution_count": 6,
   "id": "a2f21d94-feed-4558-ab2b-73752f5da5b7",
   "metadata": {},
   "outputs": [
    {
     "data": {
      "text/html": [
       "<div>\n",
       "<style scoped>\n",
       "    .dataframe tbody tr th:only-of-type {\n",
       "        vertical-align: middle;\n",
       "    }\n",
       "\n",
       "    .dataframe tbody tr th {\n",
       "        vertical-align: top;\n",
       "    }\n",
       "\n",
       "    .dataframe thead th {\n",
       "        text-align: right;\n",
       "    }\n",
       "</style>\n",
       "<table border=\"1\" class=\"dataframe\">\n",
       "  <thead>\n",
       "    <tr style=\"text-align: right;\">\n",
       "      <th></th>\n",
       "      <th>Age</th>\n",
       "      <th>SystolicBP</th>\n",
       "      <th>DiastolicBP</th>\n",
       "      <th>BS</th>\n",
       "      <th>BodyTemp</th>\n",
       "      <th>HeartRate</th>\n",
       "    </tr>\n",
       "  </thead>\n",
       "  <tbody>\n",
       "    <tr>\n",
       "      <th>count</th>\n",
       "      <td>1014.000000</td>\n",
       "      <td>1014.000000</td>\n",
       "      <td>1014.000000</td>\n",
       "      <td>1014.000000</td>\n",
       "      <td>1014.000000</td>\n",
       "      <td>1014.000000</td>\n",
       "    </tr>\n",
       "    <tr>\n",
       "      <th>mean</th>\n",
       "      <td>29.871795</td>\n",
       "      <td>113.198225</td>\n",
       "      <td>76.460552</td>\n",
       "      <td>8.725986</td>\n",
       "      <td>98.665089</td>\n",
       "      <td>74.301775</td>\n",
       "    </tr>\n",
       "    <tr>\n",
       "      <th>std</th>\n",
       "      <td>13.474386</td>\n",
       "      <td>18.403913</td>\n",
       "      <td>13.885796</td>\n",
       "      <td>3.293532</td>\n",
       "      <td>1.371384</td>\n",
       "      <td>8.088702</td>\n",
       "    </tr>\n",
       "    <tr>\n",
       "      <th>min</th>\n",
       "      <td>10.000000</td>\n",
       "      <td>70.000000</td>\n",
       "      <td>49.000000</td>\n",
       "      <td>6.000000</td>\n",
       "      <td>98.000000</td>\n",
       "      <td>7.000000</td>\n",
       "    </tr>\n",
       "    <tr>\n",
       "      <th>25%</th>\n",
       "      <td>19.000000</td>\n",
       "      <td>100.000000</td>\n",
       "      <td>65.000000</td>\n",
       "      <td>6.900000</td>\n",
       "      <td>98.000000</td>\n",
       "      <td>70.000000</td>\n",
       "    </tr>\n",
       "    <tr>\n",
       "      <th>50%</th>\n",
       "      <td>26.000000</td>\n",
       "      <td>120.000000</td>\n",
       "      <td>80.000000</td>\n",
       "      <td>7.500000</td>\n",
       "      <td>98.000000</td>\n",
       "      <td>76.000000</td>\n",
       "    </tr>\n",
       "    <tr>\n",
       "      <th>75%</th>\n",
       "      <td>39.000000</td>\n",
       "      <td>120.000000</td>\n",
       "      <td>90.000000</td>\n",
       "      <td>8.000000</td>\n",
       "      <td>98.000000</td>\n",
       "      <td>80.000000</td>\n",
       "    </tr>\n",
       "    <tr>\n",
       "      <th>max</th>\n",
       "      <td>70.000000</td>\n",
       "      <td>160.000000</td>\n",
       "      <td>100.000000</td>\n",
       "      <td>19.000000</td>\n",
       "      <td>103.000000</td>\n",
       "      <td>90.000000</td>\n",
       "    </tr>\n",
       "  </tbody>\n",
       "</table>\n",
       "</div>"
      ],
      "text/plain": [
       "               Age   SystolicBP  DiastolicBP           BS     BodyTemp  \\\n",
       "count  1014.000000  1014.000000  1014.000000  1014.000000  1014.000000   \n",
       "mean     29.871795   113.198225    76.460552     8.725986    98.665089   \n",
       "std      13.474386    18.403913    13.885796     3.293532     1.371384   \n",
       "min      10.000000    70.000000    49.000000     6.000000    98.000000   \n",
       "25%      19.000000   100.000000    65.000000     6.900000    98.000000   \n",
       "50%      26.000000   120.000000    80.000000     7.500000    98.000000   \n",
       "75%      39.000000   120.000000    90.000000     8.000000    98.000000   \n",
       "max      70.000000   160.000000   100.000000    19.000000   103.000000   \n",
       "\n",
       "         HeartRate  \n",
       "count  1014.000000  \n",
       "mean     74.301775  \n",
       "std       8.088702  \n",
       "min       7.000000  \n",
       "25%      70.000000  \n",
       "50%      76.000000  \n",
       "75%      80.000000  \n",
       "max      90.000000  "
      ]
     },
     "execution_count": 6,
     "metadata": {},
     "output_type": "execute_result"
    }
   ],
   "source": [
    "df.describe()"
   ]
  },
  {
   "cell_type": "code",
   "execution_count": 7,
   "id": "ca7c14db-4a5d-4b2d-80f7-ebd62b05605d",
   "metadata": {},
   "outputs": [
    {
     "data": {
      "text/plain": [
       "(1014, 7)"
      ]
     },
     "execution_count": 7,
     "metadata": {},
     "output_type": "execute_result"
    }
   ],
   "source": [
    "df.shape"
   ]
  },
  {
   "cell_type": "code",
   "execution_count": 8,
   "id": "a8504bae-676c-4410-94b3-853ff6687df2",
   "metadata": {},
   "outputs": [
    {
     "data": {
      "text/plain": [
       "Age            0\n",
       "SystolicBP     0\n",
       "DiastolicBP    0\n",
       "BS             0\n",
       "BodyTemp       0\n",
       "HeartRate      0\n",
       "RiskLevel      0\n",
       "dtype: int64"
      ]
     },
     "execution_count": 8,
     "metadata": {},
     "output_type": "execute_result"
    }
   ],
   "source": [
    "df.isnull().sum()"
   ]
  },
  {
   "cell_type": "code",
   "execution_count": 9,
   "id": "61b29591-2320-4839-bea9-99922e7aadb6",
   "metadata": {},
   "outputs": [
    {
     "name": "stdout",
     "output_type": "stream",
     "text": [
      "<class 'pandas.core.frame.DataFrame'>\n",
      "RangeIndex: 1014 entries, 0 to 1013\n",
      "Data columns (total 7 columns):\n",
      " #   Column       Non-Null Count  Dtype  \n",
      "---  ------       --------------  -----  \n",
      " 0   Age          1014 non-null   int64  \n",
      " 1   SystolicBP   1014 non-null   int64  \n",
      " 2   DiastolicBP  1014 non-null   int64  \n",
      " 3   BS           1014 non-null   float64\n",
      " 4   BodyTemp     1014 non-null   float64\n",
      " 5   HeartRate    1014 non-null   int64  \n",
      " 6   RiskLevel    1014 non-null   object \n",
      "dtypes: float64(2), int64(4), object(1)\n",
      "memory usage: 55.6+ KB\n"
     ]
    }
   ],
   "source": [
    "df.info()"
   ]
  },
  {
   "cell_type": "code",
   "execution_count": 22,
   "id": "4aa9310b-5bef-4207-a8df-5d2948fec8e8",
   "metadata": {},
   "outputs": [],
   "source": [
    "#Data Cleaning and Preprocessing"
   ]
  },
  {
   "cell_type": "code",
   "execution_count": 10,
   "id": "4bc86d3a-9553-426e-a4c3-f52dc2a7f27c",
   "metadata": {},
   "outputs": [
    {
     "data": {
      "text/plain": [
       "np.int64(562)"
      ]
     },
     "execution_count": 10,
     "metadata": {},
     "output_type": "execute_result"
    }
   ],
   "source": [
    "df.duplicated().sum()"
   ]
  },
  {
   "cell_type": "code",
   "execution_count": 11,
   "id": "76035648-18e5-4b69-a352-ead1f2d2e2a7",
   "metadata": {},
   "outputs": [
    {
     "name": "stdout",
     "output_type": "stream",
     "text": [
      "New shape: (452, 7)\n"
     ]
    }
   ],
   "source": [
    "df_cleaned = df.drop_duplicates()\n",
    "print(f\"New shape: {df_cleaned.shape}\")\n"
   ]
  },
  {
   "cell_type": "code",
   "execution_count": 12,
   "id": "b2d69486-46e3-442e-9476-a763899e51ae",
   "metadata": {},
   "outputs": [],
   "source": [
    "df = df_cleaned"
   ]
  },
  {
   "cell_type": "code",
   "execution_count": 13,
   "id": "5d958780-87c8-490e-ab05-728739731d03",
   "metadata": {},
   "outputs": [
    {
     "data": {
      "text/plain": [
       "(452, 7)"
      ]
     },
     "execution_count": 13,
     "metadata": {},
     "output_type": "execute_result"
    }
   ],
   "source": [
    "df.shape\n"
   ]
  },
  {
   "cell_type": "code",
   "execution_count": 20,
   "id": "6881e204-3ae4-45d0-9b3b-8353f8e628da",
   "metadata": {},
   "outputs": [],
   "source": [
    "#Adding other columns correlated with the Risk Level \n"
   ]
  },
  {
   "cell_type": "code",
   "execution_count": 15,
   "id": "9170de8c-fdaf-41f8-a1bc-8e150532f1b7",
   "metadata": {},
   "outputs": [],
   "source": [
    "def generate_pregnancies(risk):\n",
    "    if risk == 'low risk':\n",
    "        return np.random.randint(1, 3)\n",
    "    elif risk == 'mid risk':\n",
    "        return np.random.randint(2, 5)\n",
    "    else:\n",
    "        return np.random.randint(3, 7)\n",
    "\n",
    "df['NumberOfPregnancies'] = df['RiskLevel'].apply(generate_pregnancies)\n"
   ]
  },
  {
   "cell_type": "code",
   "execution_count": 16,
   "id": "2c91cbab-58be-401a-91fd-66d2258f0ba0",
   "metadata": {},
   "outputs": [],
   "source": [
    "def generate_complications(risk):\n",
    "    if risk == 'low risk':\n",
    "        return np.random.choice([0, 1], p=[0.95, 0.05])\n",
    "    elif risk == 'mid risk':\n",
    "        return np.random.choice([0, 1], p=[0.75, 0.25])\n",
    "    else:\n",
    "        return np.random.choice([0, 1], p=[0.3, 0.7])\n",
    "\n",
    "df['PreviousComplications'] = df['RiskLevel'].apply(generate_complications)\n",
    "\n"
   ]
  },
  {
   "cell_type": "code",
   "execution_count": 17,
   "id": "9ab9a9f0-9237-43a4-83d2-7caf159b6cbf",
   "metadata": {},
   "outputs": [],
   "source": [
    "def generate_hemoglobin(risk):\n",
    "    if risk == 'low risk':\n",
    "        return round(np.random.normal(13.2, 0.7), 1)\n",
    "    elif risk == 'mid risk':\n",
    "        return round(np.random.normal(11.2, 0.6), 1)\n",
    "    else:\n",
    "        return round(np.random.normal(9.5, 0.8), 1)\n",
    "\n",
    "df['Hemoglobin'] = df['RiskLevel'].apply(generate_hemoglobin)\n",
    "\n"
   ]
  },
  {
   "cell_type": "code",
   "execution_count": 18,
   "id": "8ae045ec-e8fc-476a-b0c8-54cc66249565",
   "metadata": {},
   "outputs": [],
   "source": [
    "def generate_bmi(risk):\n",
    "    if risk == 'low risk':\n",
    "        return round(np.random.normal(22.5, 1.5), 1)\n",
    "    elif risk == 'mid risk':\n",
    "        return round(np.random.normal(26.5, 2.0), 1)\n",
    "    else:\n",
    "        return round(np.random.normal(31.5, 3.5), 1)\n",
    "\n",
    "df['BMI'] = df['RiskLevel'].apply(generate_bmi)\n",
    "\n"
   ]
  },
  {
   "cell_type": "code",
   "execution_count": 19,
   "id": "62840bed-8ec1-446a-b73c-2b23ac52abe1",
   "metadata": {},
   "outputs": [
    {
     "data": {
      "text/html": [
       "<div>\n",
       "<style scoped>\n",
       "    .dataframe tbody tr th:only-of-type {\n",
       "        vertical-align: middle;\n",
       "    }\n",
       "\n",
       "    .dataframe tbody tr th {\n",
       "        vertical-align: top;\n",
       "    }\n",
       "\n",
       "    .dataframe thead th {\n",
       "        text-align: right;\n",
       "    }\n",
       "</style>\n",
       "<table border=\"1\" class=\"dataframe\">\n",
       "  <thead>\n",
       "    <tr style=\"text-align: right;\">\n",
       "      <th></th>\n",
       "      <th>Age</th>\n",
       "      <th>SystolicBP</th>\n",
       "      <th>DiastolicBP</th>\n",
       "      <th>BS</th>\n",
       "      <th>BodyTemp</th>\n",
       "      <th>HeartRate</th>\n",
       "      <th>RiskLevel</th>\n",
       "      <th>NumberOfPregnancies</th>\n",
       "      <th>PreviousComplications</th>\n",
       "      <th>Hemoglobin</th>\n",
       "      <th>BMI</th>\n",
       "    </tr>\n",
       "  </thead>\n",
       "  <tbody>\n",
       "    <tr>\n",
       "      <th>0</th>\n",
       "      <td>25</td>\n",
       "      <td>130</td>\n",
       "      <td>80</td>\n",
       "      <td>15.0</td>\n",
       "      <td>98.0</td>\n",
       "      <td>86</td>\n",
       "      <td>high risk</td>\n",
       "      <td>5</td>\n",
       "      <td>0</td>\n",
       "      <td>10.9</td>\n",
       "      <td>35.0</td>\n",
       "    </tr>\n",
       "    <tr>\n",
       "      <th>1</th>\n",
       "      <td>35</td>\n",
       "      <td>140</td>\n",
       "      <td>90</td>\n",
       "      <td>13.0</td>\n",
       "      <td>98.0</td>\n",
       "      <td>70</td>\n",
       "      <td>high risk</td>\n",
       "      <td>4</td>\n",
       "      <td>1</td>\n",
       "      <td>10.6</td>\n",
       "      <td>33.0</td>\n",
       "    </tr>\n",
       "    <tr>\n",
       "      <th>2</th>\n",
       "      <td>29</td>\n",
       "      <td>90</td>\n",
       "      <td>70</td>\n",
       "      <td>8.0</td>\n",
       "      <td>100.0</td>\n",
       "      <td>80</td>\n",
       "      <td>high risk</td>\n",
       "      <td>6</td>\n",
       "      <td>0</td>\n",
       "      <td>9.3</td>\n",
       "      <td>34.8</td>\n",
       "    </tr>\n",
       "    <tr>\n",
       "      <th>3</th>\n",
       "      <td>30</td>\n",
       "      <td>140</td>\n",
       "      <td>85</td>\n",
       "      <td>7.0</td>\n",
       "      <td>98.0</td>\n",
       "      <td>70</td>\n",
       "      <td>high risk</td>\n",
       "      <td>5</td>\n",
       "      <td>0</td>\n",
       "      <td>8.8</td>\n",
       "      <td>31.3</td>\n",
       "    </tr>\n",
       "    <tr>\n",
       "      <th>4</th>\n",
       "      <td>35</td>\n",
       "      <td>120</td>\n",
       "      <td>60</td>\n",
       "      <td>6.1</td>\n",
       "      <td>98.0</td>\n",
       "      <td>76</td>\n",
       "      <td>low risk</td>\n",
       "      <td>2</td>\n",
       "      <td>0</td>\n",
       "      <td>13.0</td>\n",
       "      <td>22.5</td>\n",
       "    </tr>\n",
       "  </tbody>\n",
       "</table>\n",
       "</div>"
      ],
      "text/plain": [
       "   Age  SystolicBP  DiastolicBP    BS  BodyTemp  HeartRate  RiskLevel  \\\n",
       "0   25         130           80  15.0      98.0         86  high risk   \n",
       "1   35         140           90  13.0      98.0         70  high risk   \n",
       "2   29          90           70   8.0     100.0         80  high risk   \n",
       "3   30         140           85   7.0      98.0         70  high risk   \n",
       "4   35         120           60   6.1      98.0         76   low risk   \n",
       "\n",
       "   NumberOfPregnancies  PreviousComplications  Hemoglobin   BMI  \n",
       "0                    5                      0        10.9  35.0  \n",
       "1                    4                      1        10.6  33.0  \n",
       "2                    6                      0         9.3  34.8  \n",
       "3                    5                      0         8.8  31.3  \n",
       "4                    2                      0        13.0  22.5  "
      ]
     },
     "execution_count": 19,
     "metadata": {},
     "output_type": "execute_result"
    }
   ],
   "source": [
    "df.head()\n"
   ]
  },
  {
   "cell_type": "code",
   "execution_count": 23,
   "id": "124a60c0-3375-4ee6-be55-c20da245f00d",
   "metadata": {},
   "outputs": [],
   "source": [
    "#Feature Engineering"
   ]
  },
  {
   "cell_type": "code",
   "execution_count": 21,
   "id": "7b800d32-a965-4a4d-b526-0a6b25319580",
   "metadata": {},
   "outputs": [
    {
     "data": {
      "text/html": [
       "<div>\n",
       "<style scoped>\n",
       "    .dataframe tbody tr th:only-of-type {\n",
       "        vertical-align: middle;\n",
       "    }\n",
       "\n",
       "    .dataframe tbody tr th {\n",
       "        vertical-align: top;\n",
       "    }\n",
       "\n",
       "    .dataframe thead th {\n",
       "        text-align: right;\n",
       "    }\n",
       "</style>\n",
       "<table border=\"1\" class=\"dataframe\">\n",
       "  <thead>\n",
       "    <tr style=\"text-align: right;\">\n",
       "      <th></th>\n",
       "      <th>Age</th>\n",
       "      <th>SystolicBP</th>\n",
       "      <th>DiastolicBP</th>\n",
       "      <th>BS</th>\n",
       "      <th>BodyTemp</th>\n",
       "      <th>HeartRate</th>\n",
       "      <th>RiskLevel</th>\n",
       "      <th>NumberOfPregnancies</th>\n",
       "      <th>PreviousComplications</th>\n",
       "      <th>Hemoglobin</th>\n",
       "      <th>BMI</th>\n",
       "    </tr>\n",
       "  </thead>\n",
       "  <tbody>\n",
       "    <tr>\n",
       "      <th>0</th>\n",
       "      <td>-0.305021</td>\n",
       "      <td>1.089310</td>\n",
       "      <td>0.333484</td>\n",
       "      <td>2.354439</td>\n",
       "      <td>-0.491351</td>\n",
       "      <td>1.479009</td>\n",
       "      <td>high risk</td>\n",
       "      <td>5</td>\n",
       "      <td>0</td>\n",
       "      <td>-0.530546</td>\n",
       "      <td>2.232645</td>\n",
       "    </tr>\n",
       "    <tr>\n",
       "      <th>1</th>\n",
       "      <td>0.422139</td>\n",
       "      <td>1.649455</td>\n",
       "      <td>1.061321</td>\n",
       "      <td>1.646744</td>\n",
       "      <td>-0.491351</td>\n",
       "      <td>-0.484676</td>\n",
       "      <td>high risk</td>\n",
       "      <td>4</td>\n",
       "      <td>1</td>\n",
       "      <td>-0.705673</td>\n",
       "      <td>1.755965</td>\n",
       "    </tr>\n",
       "    <tr>\n",
       "      <th>2</th>\n",
       "      <td>-0.014157</td>\n",
       "      <td>-1.151273</td>\n",
       "      <td>-0.394352</td>\n",
       "      <td>-0.122492</td>\n",
       "      <td>0.927758</td>\n",
       "      <td>0.742627</td>\n",
       "      <td>high risk</td>\n",
       "      <td>6</td>\n",
       "      <td>0</td>\n",
       "      <td>-1.464555</td>\n",
       "      <td>2.184977</td>\n",
       "    </tr>\n",
       "    <tr>\n",
       "      <th>3</th>\n",
       "      <td>0.058559</td>\n",
       "      <td>1.649455</td>\n",
       "      <td>0.697402</td>\n",
       "      <td>-0.476340</td>\n",
       "      <td>-0.491351</td>\n",
       "      <td>-0.484676</td>\n",
       "      <td>high risk</td>\n",
       "      <td>5</td>\n",
       "      <td>0</td>\n",
       "      <td>-1.756433</td>\n",
       "      <td>1.350787</td>\n",
       "    </tr>\n",
       "    <tr>\n",
       "      <th>4</th>\n",
       "      <td>0.422139</td>\n",
       "      <td>0.529164</td>\n",
       "      <td>-1.122188</td>\n",
       "      <td>-0.794802</td>\n",
       "      <td>-0.491351</td>\n",
       "      <td>0.251706</td>\n",
       "      <td>low risk</td>\n",
       "      <td>2</td>\n",
       "      <td>0</td>\n",
       "      <td>0.695341</td>\n",
       "      <td>-0.746605</td>\n",
       "    </tr>\n",
       "  </tbody>\n",
       "</table>\n",
       "</div>"
      ],
      "text/plain": [
       "        Age  SystolicBP  DiastolicBP        BS  BodyTemp  HeartRate  \\\n",
       "0 -0.305021    1.089310     0.333484  2.354439 -0.491351   1.479009   \n",
       "1  0.422139    1.649455     1.061321  1.646744 -0.491351  -0.484676   \n",
       "2 -0.014157   -1.151273    -0.394352 -0.122492  0.927758   0.742627   \n",
       "3  0.058559    1.649455     0.697402 -0.476340 -0.491351  -0.484676   \n",
       "4  0.422139    0.529164    -1.122188 -0.794802 -0.491351   0.251706   \n",
       "\n",
       "   RiskLevel  NumberOfPregnancies  PreviousComplications  Hemoglobin       BMI  \n",
       "0  high risk                    5                      0   -0.530546  2.232645  \n",
       "1  high risk                    4                      1   -0.705673  1.755965  \n",
       "2  high risk                    6                      0   -1.464555  2.184977  \n",
       "3  high risk                    5                      0   -1.756433  1.350787  \n",
       "4   low risk                    2                      0    0.695341 -0.746605  "
      ]
     },
     "execution_count": 21,
     "metadata": {},
     "output_type": "execute_result"
    }
   ],
   "source": [
    "from sklearn.preprocessing import StandardScaler\n",
    "\n",
    "# Define columns to scale\n",
    "scale_cols = ['Age', 'SystolicBP', 'DiastolicBP', 'BS', 'BodyTemp', 'HeartRate', 'Hemoglobin', 'BMI']\n",
    "\n",
    "# Initialize scaler\n",
    "scaler = StandardScaler()\n",
    "\n",
    "# Fit-transform\n",
    "df_scaled = df.copy()\n",
    "df_scaled[scale_cols] = scaler.fit_transform(df_scaled[scale_cols])\n",
    "\n",
    "# Preview\n",
    "df_scaled.head()\n"
   ]
  },
  {
   "cell_type": "code",
   "execution_count": 24,
   "id": "9da8796f-6dce-44d0-9145-82c258ee016b",
   "metadata": {},
   "outputs": [],
   "source": [
    "#label Encoding of Risk level and correlation with other input factors"
   ]
  },
  {
   "cell_type": "code",
   "execution_count": 25,
   "id": "f3dc830a-ca6f-4c3a-9c55-a56e6bb0252c",
   "metadata": {},
   "outputs": [
    {
     "data": {
      "image/png": "[encoded data removed]",
      "text/plain": [
       "<Figure size 1200x800 with 2 Axes>"
      ]
     },
     "metadata": {},
     "output_type": "display_data"
    }
   ],
   "source": [
    "from sklearn.preprocessing import LabelEncoder\n",
    "\n",
    "# Encode RiskLevel as numeric: (low risk = 0, mid risk = 1, high risk = 2)\n",
    "df_corr = df.copy()\n",
    "le = LabelEncoder()\n",
    "df_corr['RiskLevel'] = le.fit_transform(df_corr['RiskLevel'])\n",
    "\n",
    "# Select columns for correlation analysis\n",
    "corr_columns = [\n",
    "    'Age', 'SystolicBP', 'DiastolicBP', 'BS', 'BodyTemp', 'HeartRate',\n",
    "    'NumberOfPregnancies', 'PreviousComplications', 'Hemoglobin', 'BMI',\n",
    "    'RiskLevel'\n",
    "]\n",
    "\n",
    "# Compute correlation matrix\n",
    "corr_matrix = df_corr[corr_columns].corr()\n",
    "\n",
    "# Plot heatmap\n",
    "plt.figure(figsize=(12, 8))\n",
    "sns.heatmap(corr_matrix, annot=True, cmap='coolwarm', linewidths=0.5, fmt=\".2f\")\n",
    "plt.title(\"Correlation Heatmap with RiskLevel\", fontsize=16)\n",
    "plt.xticks(rotation=45)\n",
    "plt.yticks(rotation=0)\n",
    "plt.tight_layout()\n",
    "plt.show()"
   ]
  },
  {
   "cell_type": "code",
   "execution_count": 30,
   "id": "47d393fd-8376-4b3b-9a90-24eb7cc2a535",
   "metadata": {},
   "outputs": [],
   "source": [
    "df= df_scaled\n",
    "le = LabelEncoder()\n",
    "df['RiskLevel'] = le.fit_transform(df['RiskLevel'])  # low = 0, mid = 1, high = 2"
   ]
  },
  {
   "cell_type": "code",
   "execution_count": 31,
   "id": "b8bc65ab-f24d-4c58-91a3-2ff9c563b0bb",
   "metadata": {},
   "outputs": [
    {
     "data": {
      "text/html": [
       "<div>\n",
       "<style scoped>\n",
       "    .dataframe tbody tr th:only-of-type {\n",
       "        vertical-align: middle;\n",
       "    }\n",
       "\n",
       "    .dataframe tbody tr th {\n",
       "        vertical-align: top;\n",
       "    }\n",
       "\n",
       "    .dataframe thead th {\n",
       "        text-align: right;\n",
       "    }\n",
       "</style>\n",
       "<table border=\"1\" class=\"dataframe\">\n",
       "  <thead>\n",
       "    <tr style=\"text-align: right;\">\n",
       "      <th></th>\n",
       "      <th>Age</th>\n",
       "      <th>SystolicBP</th>\n",
       "      <th>DiastolicBP</th>\n",
       "      <th>BS</th>\n",
       "      <th>BodyTemp</th>\n",
       "      <th>HeartRate</th>\n",
       "      <th>RiskLevel</th>\n",
       "      <th>NumberOfPregnancies</th>\n",
       "      <th>PreviousComplications</th>\n",
       "      <th>Hemoglobin</th>\n",
       "      <th>BMI</th>\n",
       "    </tr>\n",
       "  </thead>\n",
       "  <tbody>\n",
       "    <tr>\n",
       "      <th>0</th>\n",
       "      <td>-0.305021</td>\n",
       "      <td>1.089310</td>\n",
       "      <td>0.333484</td>\n",
       "      <td>2.354439</td>\n",
       "      <td>-0.491351</td>\n",
       "      <td>1.479009</td>\n",
       "      <td>0</td>\n",
       "      <td>5</td>\n",
       "      <td>0</td>\n",
       "      <td>-0.530546</td>\n",
       "      <td>2.232645</td>\n",
       "    </tr>\n",
       "    <tr>\n",
       "      <th>1</th>\n",
       "      <td>0.422139</td>\n",
       "      <td>1.649455</td>\n",
       "      <td>1.061321</td>\n",
       "      <td>1.646744</td>\n",
       "      <td>-0.491351</td>\n",
       "      <td>-0.484676</td>\n",
       "      <td>0</td>\n",
       "      <td>4</td>\n",
       "      <td>1</td>\n",
       "      <td>-0.705673</td>\n",
       "      <td>1.755965</td>\n",
       "    </tr>\n",
       "    <tr>\n",
       "      <th>2</th>\n",
       "      <td>-0.014157</td>\n",
       "      <td>-1.151273</td>\n",
       "      <td>-0.394352</td>\n",
       "      <td>-0.122492</td>\n",
       "      <td>0.927758</td>\n",
       "      <td>0.742627</td>\n",
       "      <td>0</td>\n",
       "      <td>6</td>\n",
       "      <td>0</td>\n",
       "      <td>-1.464555</td>\n",
       "      <td>2.184977</td>\n",
       "    </tr>\n",
       "    <tr>\n",
       "      <th>3</th>\n",
       "      <td>0.058559</td>\n",
       "      <td>1.649455</td>\n",
       "      <td>0.697402</td>\n",
       "      <td>-0.476340</td>\n",
       "      <td>-0.491351</td>\n",
       "      <td>-0.484676</td>\n",
       "      <td>0</td>\n",
       "      <td>5</td>\n",
       "      <td>0</td>\n",
       "      <td>-1.756433</td>\n",
       "      <td>1.350787</td>\n",
       "    </tr>\n",
       "    <tr>\n",
       "      <th>4</th>\n",
       "      <td>0.422139</td>\n",
       "      <td>0.529164</td>\n",
       "      <td>-1.122188</td>\n",
       "      <td>-0.794802</td>\n",
       "      <td>-0.491351</td>\n",
       "      <td>0.251706</td>\n",
       "      <td>1</td>\n",
       "      <td>2</td>\n",
       "      <td>0</td>\n",
       "      <td>0.695341</td>\n",
       "      <td>-0.746605</td>\n",
       "    </tr>\n",
       "  </tbody>\n",
       "</table>\n",
       "</div>"
      ],
      "text/plain": [
       "        Age  SystolicBP  DiastolicBP        BS  BodyTemp  HeartRate  \\\n",
       "0 -0.305021    1.089310     0.333484  2.354439 -0.491351   1.479009   \n",
       "1  0.422139    1.649455     1.061321  1.646744 -0.491351  -0.484676   \n",
       "2 -0.014157   -1.151273    -0.394352 -0.122492  0.927758   0.742627   \n",
       "3  0.058559    1.649455     0.697402 -0.476340 -0.491351  -0.484676   \n",
       "4  0.422139    0.529164    -1.122188 -0.794802 -0.491351   0.251706   \n",
       "\n",
       "   RiskLevel  NumberOfPregnancies  PreviousComplications  Hemoglobin       BMI  \n",
       "0          0                    5                      0   -0.530546  2.232645  \n",
       "1          0                    4                      1   -0.705673  1.755965  \n",
       "2          0                    6                      0   -1.464555  2.184977  \n",
       "3          0                    5                      0   -1.756433  1.350787  \n",
       "4          1                    2                      0    0.695341 -0.746605  "
      ]
     },
     "execution_count": 31,
     "metadata": {},
     "output_type": "execute_result"
    }
   ],
   "source": [
    "df.head()"
   ]
  },
  {
   "cell_type": "code",
   "execution_count": 32,
   "id": "f46e9e4e-c80c-430d-99cb-ac242424575c",
   "metadata": {},
   "outputs": [],
   "source": [
    "#Model Training"
   ]
  },
  {
   "cell_type": "code",
   "execution_count": 33,
   "id": "18dca8bb-adf1-4b15-aa61-f5ef883397f5",
   "metadata": {},
   "outputs": [
    {
     "name": "stdout",
     "output_type": "stream",
     "text": [
      "\n",
      "🔹 Logistic Regression\n",
      "Accuracy: 0.9780\n",
      "Confusion Matrix:\n",
      " [[23  0  0]\n",
      " [ 0 47  0]\n",
      " [ 1  1 19]]\n",
      "Classification Report:\n",
      "               precision    recall  f1-score   support\n",
      "\n",
      "           0       0.96      1.00      0.98        23\n",
      "           1       0.98      1.00      0.99        47\n",
      "           2       1.00      0.90      0.95        21\n",
      "\n",
      "    accuracy                           0.98        91\n",
      "   macro avg       0.98      0.97      0.97        91\n",
      "weighted avg       0.98      0.98      0.98        91\n",
      "\n",
      "\n",
      "🔹 Random Forest\n",
      "Accuracy: 0.9890\n",
      "Confusion Matrix:\n",
      " [[23  0  0]\n",
      " [ 0 46  1]\n",
      " [ 0  0 21]]\n",
      "Classification Report:\n",
      "               precision    recall  f1-score   support\n",
      "\n",
      "           0       1.00      1.00      1.00        23\n",
      "           1       1.00      0.98      0.99        47\n",
      "           2       0.95      1.00      0.98        21\n",
      "\n",
      "    accuracy                           0.99        91\n",
      "   macro avg       0.98      0.99      0.99        91\n",
      "weighted avg       0.99      0.99      0.99        91\n",
      "\n",
      "\n",
      "🔹 SVM\n",
      "Accuracy: 0.9670\n",
      "Confusion Matrix:\n",
      " [[22  0  1]\n",
      " [ 0 47  0]\n",
      " [ 1  1 19]]\n",
      "Classification Report:\n",
      "               precision    recall  f1-score   support\n",
      "\n",
      "           0       0.96      0.96      0.96        23\n",
      "           1       0.98      1.00      0.99        47\n",
      "           2       0.95      0.90      0.93        21\n",
      "\n",
      "    accuracy                           0.97        91\n",
      "   macro avg       0.96      0.95      0.96        91\n",
      "weighted avg       0.97      0.97      0.97        91\n",
      "\n",
      "\n",
      "🔹 KNN\n",
      "Accuracy: 0.9341\n",
      "Confusion Matrix:\n",
      " [[19  0  4]\n",
      " [ 0 47  0]\n",
      " [ 0  2 19]]\n",
      "Classification Report:\n",
      "               precision    recall  f1-score   support\n",
      "\n",
      "           0       1.00      0.83      0.90        23\n",
      "           1       0.96      1.00      0.98        47\n",
      "           2       0.83      0.90      0.86        21\n",
      "\n",
      "    accuracy                           0.93        91\n",
      "   macro avg       0.93      0.91      0.92        91\n",
      "weighted avg       0.94      0.93      0.93        91\n",
      "\n",
      "\n",
      "🔹 XGBoost\n",
      "Accuracy: 0.9890\n",
      "Confusion Matrix:\n",
      " [[23  0  0]\n",
      " [ 0 46  1]\n",
      " [ 0  0 21]]\n",
      "Classification Report:\n",
      "               precision    recall  f1-score   support\n",
      "\n",
      "           0       1.00      1.00      1.00        23\n",
      "           1       1.00      0.98      0.99        47\n",
      "           2       0.95      1.00      0.98        21\n",
      "\n",
      "    accuracy                           0.99        91\n",
      "   macro avg       0.98      0.99      0.99        91\n",
      "weighted avg       0.99      0.99      0.99        91\n",
      "\n"
     ]
    },
    {
     "data": {
      "image/png": "[encoded data removed]",
      "text/plain": [
       "<Figure size 1000x500 with 1 Axes>"
      ]
     },
     "metadata": {},
     "output_type": "display_data"
    }
   ],
   "source": [
    "\n",
    "from sklearn.model_selection import train_test_split\n",
    "from sklearn.metrics import classification_report, confusion_matrix, accuracy_score\n",
    "from sklearn.linear_model import LogisticRegression\n",
    "from sklearn.ensemble import RandomForestClassifier\n",
    "from sklearn.svm import SVC\n",
    "from sklearn.neighbors import KNeighborsClassifier\n",
    "from xgboost import XGBClassifier\n",
    "\n",
    "# Step 1: Prepare data\n",
    "X = df.drop('RiskLevel', axis=1)\n",
    "y = df['RiskLevel']  # Should be numeric (e.g., 0, 1, 2)\n",
    "\n",
    "# Step 2: Train-test split\n",
    "X_train, X_test, y_train, y_test = train_test_split(\n",
    "    X, y, test_size=0.2, stratify=y, random_state=42\n",
    ")\n",
    "\n",
    "# Step 3: Define models\n",
    "models = {\n",
    "    'Logistic Regression': LogisticRegression(max_iter=1000),\n",
    "    'Random Forest': RandomForestClassifier(random_state=42),\n",
    "    'SVM': SVC(kernel='rbf', probability=True),\n",
    "    'KNN': KNeighborsClassifier(n_neighbors=5),\n",
    "    'XGBoost': XGBClassifier(use_label_encoder=False, eval_metric='mlogloss')\n",
    "}\n",
    "\n",
    "# Step 4: Train & Evaluate\n",
    "results = {}\n",
    "\n",
    "for name, model in models.items():\n",
    "    print(f\"\\n🔹 {name}\")\n",
    "    model.fit(X_train, y_train)\n",
    "    y_pred = model.predict(X_test)\n",
    "\n",
    "    acc = accuracy_score(y_test, y_pred)\n",
    "    print(f\"Accuracy: {acc:.4f}\")\n",
    "    print(\"Confusion Matrix:\\n\", confusion_matrix(y_test, y_pred))\n",
    "    print(\"Classification Report:\\n\", classification_report(y_test, y_pred))\n",
    "    \n",
    "    results[name] = acc\n",
    "\n",
    "plt.figure(figsize=(10,5))\n",
    "plt.bar(results.keys(), results.values(), color='skyblue')\n",
    "plt.ylabel(\"Accuracy\")\n",
    "plt.title(\"Model Comparison - RiskLevel Prediction\")\n",
    "plt.ylim(0, 1)\n",
    "plt.xticks(rotation=45)\n",
    "plt.tight_layout()\n",
    "plt.show()\n"
   ]
  },
  {
   "cell_type": "code",
   "execution_count": 34,
   "id": "08cc78f5-0a53-4a76-a9bd-517849b071e3",
   "metadata": {},
   "outputs": [],
   "source": [
    "#Hyperparameter Tuning"
   ]
  },
  {
   "cell_type": "code",
   "execution_count": 35,
   "id": "569464da-a3a2-4063-9fe5-9926400f9191",
   "metadata": {},
   "outputs": [
    {
     "name": "stdout",
     "output_type": "stream",
     "text": [
      "Fitting 5 folds for each of 216 candidates, totalling 1080 fits\n",
      "✅ Best parameters for Random Forest: {'bootstrap': True, 'max_depth': 6, 'min_samples_leaf': 4, 'min_samples_split': 10, 'n_estimators': 100}\n",
      "✅ Best accuracy: 0.9722983257229834\n"
     ]
    }
   ],
   "source": [
    "from sklearn.model_selection import GridSearchCV\n",
    "\n",
    "param_grid_rf = {\n",
    "    'n_estimators': [100, 200, 300],\n",
    "    'max_depth': [4, 6, 8, None],\n",
    "    'min_samples_split': [2, 5, 10],\n",
    "    'min_samples_leaf': [1, 2, 4],\n",
    "    'bootstrap': [True, False]\n",
    "}\n",
    "\n",
    "rf = RandomForestClassifier(random_state=42)\n",
    "\n",
    "grid_search_rf = GridSearchCV(\n",
    "    estimator=rf,\n",
    "    param_grid=param_grid_rf,\n",
    "    cv=5,\n",
    "    n_jobs=-1,\n",
    "    scoring='accuracy',\n",
    "    verbose=2\n",
    ")\n",
    "\n",
    "grid_search_rf.fit(X_train, y_train)\n",
    "\n",
    "print(\"✅ Best parameters for Random Forest:\", grid_search_rf.best_params_)\n",
    "print(\"✅ Best accuracy:\", grid_search_rf.best_score_)\n"
   ]
  },
  {
   "cell_type": "code",
   "execution_count": 36,
   "id": "6f73a4d3-d8b8-4977-8d42-458d5ab4b80e",
   "metadata": {},
   "outputs": [
    {
     "name": "stdout",
     "output_type": "stream",
     "text": [
      "Fitting 5 folds for each of 72 candidates, totalling 360 fits\n",
      "✅ Best parameters for XGBoost: {'colsample_bytree': 1, 'learning_rate': 0.1, 'max_depth': 7, 'n_estimators': 200, 'subsample': 1}\n",
      "✅ Best accuracy: 0.9695205479452056\n"
     ]
    }
   ],
   "source": [
    "#hyperparameter tuning of XGB Model\n",
    "param_grid_xgb = {\n",
    "    'n_estimators': [100, 200],\n",
    "    'learning_rate': [0.01, 0.1, 0.3],\n",
    "    'max_depth': [3, 5, 7],\n",
    "    'subsample': [0.8, 1],\n",
    "    'colsample_bytree': [0.8, 1]\n",
    "}\n",
    "\n",
    "xgb = XGBClassifier(use_label_encoder=False, eval_metric='mlogloss', random_state=42)\n",
    "\n",
    "grid_search_xgb = GridSearchCV(\n",
    "    estimator=xgb,\n",
    "    param_grid=param_grid_xgb,\n",
    "    cv=5,\n",
    "    n_jobs=-1,\n",
    "    scoring='accuracy',\n",
    "    verbose=2\n",
    ")\n",
    "\n",
    "grid_search_xgb.fit(X_train, y_train)\n",
    "\n",
    "print(\"✅ Best parameters for XGBoost:\", grid_search_xgb.best_params_)\n",
    "print(\"✅ Best accuracy:\", grid_search_xgb.best_score_)\n"
   ]
  },
  {
   "cell_type": "code",
   "execution_count": 38,
   "id": "b335f258-987c-4bb4-9d61-6c98fe0d9438",
   "metadata": {},
   "outputs": [
    {
     "data": {
      "image/png": "[encoded data removed]",
      "text/plain": [
       "<Figure size 1000x600 with 1 Axes>"
      ]
     },
     "metadata": {},
     "output_type": "display_data"
    }
   ],
   "source": [
    "# Get feature importances from best RF model\n",
    "importances = grid_search_rf.best_estimator_.feature_importances_\n",
    "features = X.columns\n",
    "\n",
    "# Create DataFrame\n",
    "feat_imp_df = pd.DataFrame({'Feature': features, 'Importance': importances})\n",
    "feat_imp_df = feat_imp_df.sort_values(by='Importance', ascending=False)\n",
    "\n",
    "# Plot\n",
    "plt.figure(figsize=(10, 6))\n",
    "sns.barplot(data=feat_imp_df, x='Importance', y='Feature', palette='viridis')\n",
    "plt.title('🔍 Feature Importance (Random Forest)')\n",
    "plt.tight_layout()\n",
    "plt.show()"
   ]
  },
  {
   "cell_type": "code",
   "execution_count": 39,
   "id": "ab99ed00-9bfa-41b2-a81d-7c411743dfce",
   "metadata": {},
   "outputs": [
    {
     "name": "stdout",
     "output_type": "stream",
     "text": [
      "✅ Model and scaler saved successfully.\n"
     ]
    }
   ],
   "source": [
    "import joblib\n",
    "\n",
    "# Save the model\n",
    "joblib.dump(grid_search_rf.best_estimator_, 'maternAI_rf_model.pkl')\n",
    "\n",
    "# Save scaler too (important if using StandardScaler)\n",
    "joblib.dump(scaler, 'maternAI_scaler.pkl')\n",
    "\n",
    "print(\"✅ Model and scaler saved successfully.\")\n"
   ]
  },
  {
   "cell_type": "code",
   "execution_count": null,
   "id": "891c4b7a-8ecb-40b6-a570-4c20433324f5",
   "metadata": {},
   "outputs": [],
   "source": []
  }
 ],
 "metadata": {
  "kernelspec": {
   "display_name": "Python 3 (ipykernel)",
   "language": "python",
   "name": "python3"
  },
  "language_info": {
   "codemirror_mode": {
    "name": "ipython",
    "version": 3
   },
   "file_extension": ".py",
   "mimetype": "text/x-python",
   "name": "python",
   "nbconvert_exporter": "python",
   "pygments_lexer": "ipython3",
   "version": "3.13.5"
  },
  "widgets": {
   "application/vnd.jupyter.widget-state+json": {
    "state": {},
    "version_major": 2,
    "version_minor": 0
   }
  }
 },
 "nbformat": 4,
 "nbformat_minor": 5
}
